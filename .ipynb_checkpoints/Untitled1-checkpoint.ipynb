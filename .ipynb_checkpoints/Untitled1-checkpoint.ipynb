{
 "cells": [
  {
   "cell_type": "code",
   "execution_count": 1,
   "metadata": {},
   "outputs": [
    {
     "name": "stdout",
     "output_type": "stream",
     "text": [
      "===============Om===============\n"
     ]
    }
   ],
   "source": [
    "print(\"===============Om===============\")"
   ]
  },
  {
   "cell_type": "code",
   "execution_count": 10,
   "metadata": {},
   "outputs": [
    {
     "ename": "IndentationError",
     "evalue": "unindent does not match any outer indentation level (<tokenize>, line 11)",
     "output_type": "error",
     "traceback": [
      "\u001b[0;36m  File \u001b[0;32m\"<tokenize>\"\u001b[0;36m, line \u001b[0;32m11\u001b[0m\n\u001b[0;31m    def print_movie_info(self):\u001b[0m\n\u001b[0m    ^\u001b[0m\n\u001b[0;31mIndentationError\u001b[0m\u001b[0;31m:\u001b[0m unindent does not match any outer indentation level\n"
     ]
    }
   ],
   "source": [
    "movie_one={\n",
    "'name':'xyz',\n",
    "'director':'abc'\n",
    "}\n",
    "\n",
    "class movie:\n",
    "\tdef __init__(self,new_name,new_director):\n",
    "\t\tself.name=new_name\n",
    "\t\tself.director=new_director\n",
    "    \n",
    "    def print_movie_info(self):\n",
    "        print(\"<<\"self.name\">> by\"self.director)\n",
    "\n",
    "\n",
    "my_movie={\n",
    "'name':'bahubali',\n",
    "'director':'dummy_bali'\n",
    "}\n",
    "\n",
    "new_movie=movie(my_movie['name'],my_movie['director'])\n",
    "print(new_movie.name)\n",
    "print(new_movie.director)\n",
    "print(new_movie.print_movie_info())\n"
   ]
  }
 ],
 "metadata": {
  "kernelspec": {
   "display_name": "Python 3",
   "language": "python",
   "name": "python3"
  },
  "language_info": {
   "codemirror_mode": {
    "name": "ipython",
    "version": 3
   },
   "file_extension": ".py",
   "mimetype": "text/x-python",
   "name": "python",
   "nbconvert_exporter": "python",
   "pygments_lexer": "ipython3",
   "version": "3.5.2"
  }
 },
 "nbformat": 4,
 "nbformat_minor": 2
}
