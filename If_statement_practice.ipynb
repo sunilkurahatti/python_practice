{
 "cells": [
  {
   "cell_type": "code",
   "execution_count": 2,
   "metadata": {
    "scrolled": false
   },
   "outputs": [
    {
     "name": "stdout",
     "output_type": "stream",
     "text": [
      "===============OM===================\n"
     ]
    }
   ],
   "source": [
    "print(\"===============OM===================\")"
   ]
  },
  {
   "cell_type": "markdown",
   "metadata": {},
   "source": [
    "# If Statement"
   ]
  },
  {
   "cell_type": "code",
   "execution_count": 12,
   "metadata": {},
   "outputs": [
    {
     "name": "stdout",
     "output_type": "stream",
     "text": [
      "Enter your friend name: andy\n",
      "Hello friend!!!\n",
      "How are you\n",
      "Default print statement\n"
     ]
    }
   ],
   "source": [
    "friend='andy'\n",
    "\n",
    "user_name=input(\"Enter your friend name: \")\n",
    "\n",
    "if user_name==friend:\n",
    "    print(\"Hello friend!!!\")\n",
    "    print(\"How are you\")\n",
    "print(\"Default print statement\")"
   ]
  },
  {
   "cell_type": "code",
   "execution_count": 4,
   "metadata": {},
   "outputs": [
    {
     "name": "stdout",
     "output_type": "stream",
     "text": [
      "Enter your friend name: andy\n",
      "Hello friend!!!\n"
     ]
    }
   ],
   "source": [
    "friend='andy'\n",
    "\n",
    "user_name=input(\"Enter your friend name: \")\n",
    "\n",
    "if user_name==friend:\n",
    "    print(\"Hello friend!!!\")\n",
    "else:\n",
    "    print(\"Hello Stranger\")"
   ]
  },
  {
   "cell_type": "code",
   "execution_count": 5,
   "metadata": {},
   "outputs": [
    {
     "name": "stdout",
     "output_type": "stream",
     "text": [
      "Enter User_name:sush\n",
      "Hello Friend\n"
     ]
    }
   ],
   "source": [
    "friend=['andy','sush','sam','arun']\n",
    "family=['ani','pooja','mom','dad']\n",
    "\n",
    "user_name=input(\"Enter User_name:\")\n",
    "if user_name in friend:\n",
    "    print(\"Hello Friend\")\n",
    "elif user_name in family:\n",
    "    print(\"Hello Family\")\n",
    "else:\n",
    "    print(\"I dont Know you\")"
   ]
  },
  {
   "cell_type": "markdown",
   "metadata": {},
   "source": [
    "# While Loop"
   ]
  },
  {
   "cell_type": "code",
   "execution_count": 6,
   "metadata": {},
   "outputs": [
    {
     "name": "stdout",
     "output_type": "stream",
     "text": [
      "you are Learning\n",
      "Are you still continue to learn: no\n",
      "you are Learning\n",
      "Are you still continue to learn: \n",
      "you are done learning\n"
     ]
    }
   ],
   "source": [
    "is_learning=True\n",
    "\n",
    "while is_learning:\n",
    "    print(\"you are Learning\")\n",
    "    is_learning=input(\"Are you still continue to learn: \")\n",
    "print(\"you are done learning\")"
   ]
  },
  {
   "cell_type": "code",
   "execution_count": 11,
   "metadata": {},
   "outputs": [
    {
     "name": "stdout",
     "output_type": "stream",
     "text": [
      "Do you wish to learn (yes/no): y\n",
      " you are learning\n",
      "Do you wish to learn (yes/no):yes\n",
      " you are learning\n",
      "Do you wish to learn (yes/no):Yes\n",
      " you are learning\n",
      "Do you wish to learn (yes/no):YES\n",
      "Finished learning\n"
     ]
    }
   ],
   "source": [
    "user_input=input(\"Do you wish to learn (yes/no): \")\n",
    "\n",
    "while user_input in [\"Yes\",\"Y\",\"y\",\"yes\"]:\n",
    "    print(\" you are learning\")\n",
    "    user_input=input(\"Do you wish to learn (yes/no):\")\n",
    "print(\"Finished learning\")"
   ]
  }
 ],
 "metadata": {
  "kernelspec": {
   "display_name": "Python 3",
   "language": "python",
   "name": "python3"
  },
  "language_info": {
   "codemirror_mode": {
    "name": "ipython",
    "version": 3
   },
   "file_extension": ".py",
   "mimetype": "text/x-python",
   "name": "python",
   "nbconvert_exporter": "python",
   "pygments_lexer": "ipython3",
   "version": "3.8.1"
  }
 },
 "nbformat": 4,
 "nbformat_minor": 2
}
