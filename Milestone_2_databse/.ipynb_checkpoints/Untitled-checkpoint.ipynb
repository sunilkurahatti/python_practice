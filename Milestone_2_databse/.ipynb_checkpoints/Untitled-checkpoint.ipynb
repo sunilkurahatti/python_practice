{
 "cells": [
  {
   "cell_type": "code",
   "execution_count": 22,
   "metadata": {},
   "outputs": [
    {
     "ename": "SyntaxError",
     "evalue": "invalid syntax (<ipython-input-22-61c3999c6ae6>, line 4)",
     "output_type": "error",
     "traceback": [
      "\u001b[0;36m  File \u001b[0;32m\"<ipython-input-22-61c3999c6ae6>\"\u001b[0;36m, line \u001b[0;32m4\u001b[0m\n\u001b[0;31m    lines = line.strip().split(',') for line in file.readlines()\u001b[0m\n\u001b[0m                                      ^\u001b[0m\n\u001b[0;31mSyntaxError\u001b[0m\u001b[0;31m:\u001b[0m invalid syntax\n"
     ]
    }
   ],
   "source": [
    "books_file = 'books_file.txt'\n",
    "\n",
    "with open(books_file, 'r') as file:\n",
    "    lines = line.strip().split(',') for line in file.readlines()\n",
    "    print(lines)\n",
    "    for line in lines:\n",
    "        print(line)"
   ]
  },
  {
   "cell_type": "code",
   "execution_count": 17,
   "metadata": {},
   "outputs": [
    {
     "name": "stdout",
     "output_type": "stream",
     "text": [
      "{'author': 'kurahatti', 'read': '0', 'name': 'sunil'}\n"
     ]
    }
   ],
   "source": [
    "print({'name':line[0],'author':line[1],'read':line[2]})"
   ]
  },
  {
   "cell_type": "code",
   "execution_count": 23,
   "metadata": {},
   "outputs": [
    {
     "name": "stdout",
     "output_type": "stream",
     "text": [
      "sunil,kurahatti,0\n",
      "\n",
      "['s']\n",
      "['u']\n",
      "['n']\n",
      "['i']\n",
      "['l']\n",
      "['', '']\n",
      "['k']\n",
      "['u']\n",
      "['r']\n",
      "['a']\n",
      "['h']\n",
      "['a']\n",
      "['t']\n",
      "['t']\n",
      "['i']\n",
      "['', '']\n",
      "['0']\n",
      "['']\n"
     ]
    }
   ],
   "source": [
    "books_file = 'books_file.txt'\n",
    "\n",
    "with open(books_file, 'r') as file:\n",
    "    line=file.readline()\n",
    "    print(line)\n",
    "    for i in line:\n",
    "        j=i.strip().split(',')\n",
    "        print(j)"
   ]
  },
  {
   "cell_type": "code",
   "execution_count": 76,
   "metadata": {},
   "outputs": [
    {
     "name": "stdout",
     "output_type": "stream",
     "text": [
      "[['sunil', 'kurahatti', 'avd0']]\n",
      "[{'author': 'kurahatti', 'name': 'sunil', 'read': 'avd0'}]\n"
     ]
    },
    {
     "ename": "IndexError",
     "evalue": "list index out of range",
     "output_type": "error",
     "traceback": [
      "\u001b[0;31m---------------------------------------------------------------------------\u001b[0m",
      "\u001b[0;31mIndexError\u001b[0m                                Traceback (most recent call last)",
      "\u001b[0;32m<ipython-input-76-8ebab1d42fe5>\u001b[0m in \u001b[0;36m<module>\u001b[0;34m\u001b[0m\n\u001b[1;32m      5\u001b[0m \u001b[0mgooo\u001b[0m\u001b[0;34m=\u001b[0m\u001b[0;34m[\u001b[0m\u001b[0;34m{\u001b[0m\u001b[0;34m'name'\u001b[0m\u001b[0;34m:\u001b[0m \u001b[0mline\u001b[0m\u001b[0;34m[\u001b[0m\u001b[0;36m0\u001b[0m\u001b[0;34m]\u001b[0m\u001b[0;34m,\u001b[0m \u001b[0;34m'author'\u001b[0m\u001b[0;34m:\u001b[0m\u001b[0mline\u001b[0m\u001b[0;34m[\u001b[0m\u001b[0;36m1\u001b[0m\u001b[0;34m]\u001b[0m\u001b[0;34m,\u001b[0m \u001b[0;34m'read'\u001b[0m\u001b[0;34m:\u001b[0m \u001b[0mline\u001b[0m\u001b[0;34m[\u001b[0m\u001b[0;36m2\u001b[0m\u001b[0;34m]\u001b[0m\u001b[0;34m}\u001b[0m \u001b[0;32mfor\u001b[0m \u001b[0mline\u001b[0m \u001b[0;32min\u001b[0m \u001b[0mlines\u001b[0m\u001b[0;34m]\u001b[0m\u001b[0;34m\u001b[0m\u001b[0m\n\u001b[1;32m      6\u001b[0m \u001b[0mprint\u001b[0m\u001b[0;34m(\u001b[0m\u001b[0mgooo\u001b[0m\u001b[0;34m)\u001b[0m\u001b[0;34m\u001b[0m\u001b[0m\n\u001b[0;32m----> 7\u001b[0;31m \u001b[0mprint\u001b[0m\u001b[0;34m(\u001b[0m\u001b[0mgooo\u001b[0m\u001b[0;34m[\u001b[0m\u001b[0;36m1\u001b[0m\u001b[0;34m]\u001b[0m\u001b[0;34m)\u001b[0m\u001b[0;34m\u001b[0m\u001b[0m\n\u001b[0m",
      "\u001b[0;31mIndexError\u001b[0m: list index out of range"
     ]
    }
   ],
   "source": [
    "books_file = 'books_file.txt'\n",
    "with open(books_file, 'r') as file:\n",
    "    lines = [line.strip().split(',') for line in file.readlines()]\n",
    "    print(lines)\n",
    "gooo=[{'name': line[0], 'author':line[1], 'read': line[2]} for line in lines]\n",
    "print(gooo)\n",
    "print(gooo[1])"
   ]
  },
  {
   "cell_type": "code",
   "execution_count": 19,
   "metadata": {},
   "outputs": [
    {
     "ename": "IndentationError",
     "evalue": "expected an indented block (<ipython-input-19-c445472d2396>, line 12)",
     "output_type": "error",
     "traceback": [
      "\u001b[1;36m  File \u001b[1;32m\"<ipython-input-19-c445472d2396>\"\u001b[1;36m, line \u001b[1;32m12\u001b[0m\n\u001b[1;33m    finally:\u001b[0m\n\u001b[1;37m    ^\u001b[0m\n\u001b[1;31mIndentationError\u001b[0m\u001b[1;31m:\u001b[0m expected an indented block\n"
     ]
    }
   ],
   "source": [
    "import json\n",
    "\n",
    "books_file = 'books_file.json'\n",
    "\n",
    "\n",
    "def file_open():\n",
    "    try:\n",
    "        with open(books_file, 'r') as file:\n",
    "            k=len(json.load(file))\n",
    "    except FileNotFoundError('NO FILE EXIXST CREATING ONE'):\n",
    "        pass\n",
    "    \n",
    "    finally:\n",
    "        if FileNotFoundError:\n",
    "            with open(books_file, 'a') as file:\n",
    "                json.dump([], file)\n",
    "\n",
    "    \n",
    "file_open()"
   ]
  }
 ],
 "metadata": {
  "kernelspec": {
   "display_name": "Python 3",
   "language": "python",
   "name": "python3"
  },
  "language_info": {
   "codemirror_mode": {
    "name": "ipython",
    "version": 3
   },
   "file_extension": ".py",
   "mimetype": "text/x-python",
   "name": "python",
   "nbconvert_exporter": "python",
   "pygments_lexer": "ipython3",
   "version": "3.8.1"
  }
 },
 "nbformat": 4,
 "nbformat_minor": 2
}
