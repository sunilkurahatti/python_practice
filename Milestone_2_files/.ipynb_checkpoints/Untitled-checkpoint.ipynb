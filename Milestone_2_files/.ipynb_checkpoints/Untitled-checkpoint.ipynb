{
 "cells": [
  {
   "cell_type": "code",
   "execution_count": 19,
   "metadata": {},
   "outputs": [
    {
     "name": "stdout",
     "output_type": "stream",
     "text": [
      "[['sunil', 'kurahatti', '0']]\n",
      "['sunil', 'kurahatti', '0']\n"
     ]
    }
   ],
   "source": [
    "books_file = 'books_file.txt'\n",
    "\n",
    "with open(books_file, 'r') as file:\n",
    "    lines = [line.strip().split(',') for line in file.readlines()]\n",
    "    print(lines)\n",
    "    for line in lines:\n",
    "        print(line)"
   ]
  },
  {
   "cell_type": "code",
   "execution_count": 17,
   "metadata": {},
   "outputs": [
    {
     "name": "stdout",
     "output_type": "stream",
     "text": [
      "{'author': 'kurahatti', 'read': '0', 'name': 'sunil'}\n"
     ]
    }
   ],
   "source": [
    "print({'name':line[0],'author':line[1],'read':line[2]})"
   ]
  },
  {
   "cell_type": "code",
   "execution_count": null,
   "metadata": {},
   "outputs": [],
   "source": [
    "books_file = 'books_file.txt'\n",
    "\n",
    "with open(books_file, 'r') as file:\n",
    "    line=file.readlines()\n",
    "    print(line)"
   ]
  }
 ],
 "metadata": {
  "kernelspec": {
   "display_name": "Python 3",
   "language": "python",
   "name": "python3"
  },
  "language_info": {
   "codemirror_mode": {
    "name": "ipython",
    "version": 3
   },
   "file_extension": ".py",
   "mimetype": "text/x-python",
   "name": "python",
   "nbconvert_exporter": "python",
   "pygments_lexer": "ipython3",
   "version": "3.5.2"
  }
 },
 "nbformat": 4,
 "nbformat_minor": 2
}
