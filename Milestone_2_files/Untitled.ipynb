{
 "cells": [
  {
   "cell_type": "code",
   "execution_count": 22,
   "metadata": {},
   "outputs": [
    {
     "ename": "SyntaxError",
     "evalue": "invalid syntax (<ipython-input-22-61c3999c6ae6>, line 4)",
     "output_type": "error",
     "traceback": [
      "\u001b[0;36m  File \u001b[0;32m\"<ipython-input-22-61c3999c6ae6>\"\u001b[0;36m, line \u001b[0;32m4\u001b[0m\n\u001b[0;31m    lines = line.strip().split(',') for line in file.readlines()\u001b[0m\n\u001b[0m                                      ^\u001b[0m\n\u001b[0;31mSyntaxError\u001b[0m\u001b[0;31m:\u001b[0m invalid syntax\n"
     ]
    }
   ],
   "source": [
    "books_file = 'books_file.txt'\n",
    "\n",
    "with open(books_file, 'r') as file:\n",
    "    lines = line.strip().split(',') for line in file.readlines()\n",
    "    print(lines)\n",
    "    for line in lines:\n",
    "        print(line)"
   ]
  },
  {
   "cell_type": "code",
   "execution_count": 17,
   "metadata": {},
   "outputs": [
    {
     "name": "stdout",
     "output_type": "stream",
     "text": [
      "{'author': 'kurahatti', 'read': '0', 'name': 'sunil'}\n"
     ]
    }
   ],
   "source": [
    "print({'name':line[0],'author':line[1],'read':line[2]})"
   ]
  },
  {
   "cell_type": "code",
   "execution_count": 23,
   "metadata": {},
   "outputs": [
    {
     "name": "stdout",
     "output_type": "stream",
     "text": [
      "sunil,kurahatti,0\n",
      "\n",
      "['s']\n",
      "['u']\n",
      "['n']\n",
      "['i']\n",
      "['l']\n",
      "['', '']\n",
      "['k']\n",
      "['u']\n",
      "['r']\n",
      "['a']\n",
      "['h']\n",
      "['a']\n",
      "['t']\n",
      "['t']\n",
      "['i']\n",
      "['', '']\n",
      "['0']\n",
      "['']\n"
     ]
    }
   ],
   "source": [
    "books_file = 'books_file.txt'\n",
    "\n",
    "with open(books_file, 'r') as file:\n",
    "    line=file.readline()\n",
    "    print(line)\n",
    "    for i in line:\n",
    "        j=i.strip().split(',')\n",
    "        print(j)"
   ]
  }
 ],
 "metadata": {
  "kernelspec": {
   "display_name": "Python 3",
   "language": "python",
   "name": "python3"
  },
  "language_info": {
   "codemirror_mode": {
    "name": "ipython",
    "version": 3
   },
   "file_extension": ".py",
   "mimetype": "text/x-python",
   "name": "python",
   "nbconvert_exporter": "python",
   "pygments_lexer": "ipython3",
   "version": "3.5.2"
  }
 },
 "nbformat": 4,
 "nbformat_minor": 2
}
