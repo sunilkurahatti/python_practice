{
 "cells": [
  {
   "cell_type": "code",
   "execution_count": 8,
   "metadata": {},
   "outputs": [],
   "source": [
    "from pandas_datareader import data\n",
    "import pandas as pd\n",
    "import datetime\n",
    "start_date = datetime.datetime(2017, 12, 1)\n",
    "end_date = datetime.datetime(2017, 12, 31)"
   ]
  },
  {
   "cell_type": "code",
   "execution_count": 17,
   "metadata": {},
   "outputs": [
    {
     "data": {
      "text/html": [
       "<div>\n",
       "<style scoped>\n",
       "    .dataframe tbody tr th:only-of-type {\n",
       "        vertical-align: middle;\n",
       "    }\n",
       "\n",
       "    .dataframe tbody tr th {\n",
       "        vertical-align: top;\n",
       "    }\n",
       "\n",
       "    .dataframe thead th {\n",
       "        text-align: right;\n",
       "    }\n",
       "</style>\n",
       "<table border=\"1\" class=\"dataframe\">\n",
       "  <thead>\n",
       "    <tr style=\"text-align: right;\">\n",
       "      <th></th>\n",
       "      <th>High</th>\n",
       "      <th>Low</th>\n",
       "      <th>Open</th>\n",
       "      <th>Close</th>\n",
       "      <th>Volume</th>\n",
       "      <th>Adj Close</th>\n",
       "    </tr>\n",
       "    <tr>\n",
       "      <th>Date</th>\n",
       "      <th></th>\n",
       "      <th></th>\n",
       "      <th></th>\n",
       "      <th></th>\n",
       "      <th></th>\n",
       "      <th></th>\n",
       "    </tr>\n",
       "  </thead>\n",
       "  <tbody>\n",
       "    <tr>\n",
       "      <th>2017-11-30</th>\n",
       "      <td>172.139999</td>\n",
       "      <td>168.440002</td>\n",
       "      <td>170.429993</td>\n",
       "      <td>171.850006</td>\n",
       "      <td>41527200</td>\n",
       "      <td>166.801956</td>\n",
       "    </tr>\n",
       "    <tr>\n",
       "      <th>2017-12-01</th>\n",
       "      <td>171.669998</td>\n",
       "      <td>168.500000</td>\n",
       "      <td>169.949997</td>\n",
       "      <td>171.050003</td>\n",
       "      <td>39759300</td>\n",
       "      <td>166.025436</td>\n",
       "    </tr>\n",
       "    <tr>\n",
       "      <th>2017-12-04</th>\n",
       "      <td>172.619995</td>\n",
       "      <td>169.630005</td>\n",
       "      <td>172.479996</td>\n",
       "      <td>169.800003</td>\n",
       "      <td>32542400</td>\n",
       "      <td>164.812134</td>\n",
       "    </tr>\n",
       "    <tr>\n",
       "      <th>2017-12-05</th>\n",
       "      <td>171.520004</td>\n",
       "      <td>168.399994</td>\n",
       "      <td>169.059998</td>\n",
       "      <td>169.639999</td>\n",
       "      <td>27350200</td>\n",
       "      <td>164.656845</td>\n",
       "    </tr>\n",
       "    <tr>\n",
       "      <th>2017-12-06</th>\n",
       "      <td>170.199997</td>\n",
       "      <td>166.460007</td>\n",
       "      <td>167.500000</td>\n",
       "      <td>169.009995</td>\n",
       "      <td>28560000</td>\n",
       "      <td>164.045380</td>\n",
       "    </tr>\n",
       "    <tr>\n",
       "      <th>2017-12-07</th>\n",
       "      <td>170.440002</td>\n",
       "      <td>168.910004</td>\n",
       "      <td>169.029999</td>\n",
       "      <td>169.320007</td>\n",
       "      <td>25673300</td>\n",
       "      <td>164.346298</td>\n",
       "    </tr>\n",
       "    <tr>\n",
       "      <th>2017-12-08</th>\n",
       "      <td>171.000000</td>\n",
       "      <td>168.820007</td>\n",
       "      <td>170.490005</td>\n",
       "      <td>169.369995</td>\n",
       "      <td>23355200</td>\n",
       "      <td>164.394775</td>\n",
       "    </tr>\n",
       "    <tr>\n",
       "      <th>2017-12-11</th>\n",
       "      <td>172.889999</td>\n",
       "      <td>168.789993</td>\n",
       "      <td>169.199997</td>\n",
       "      <td>172.669998</td>\n",
       "      <td>35273800</td>\n",
       "      <td>167.597855</td>\n",
       "    </tr>\n",
       "    <tr>\n",
       "      <th>2017-12-12</th>\n",
       "      <td>172.389999</td>\n",
       "      <td>171.460007</td>\n",
       "      <td>172.149994</td>\n",
       "      <td>171.699997</td>\n",
       "      <td>19409200</td>\n",
       "      <td>166.656357</td>\n",
       "    </tr>\n",
       "    <tr>\n",
       "      <th>2017-12-13</th>\n",
       "      <td>173.539993</td>\n",
       "      <td>172.000000</td>\n",
       "      <td>172.500000</td>\n",
       "      <td>172.270004</td>\n",
       "      <td>23818400</td>\n",
       "      <td>167.209610</td>\n",
       "    </tr>\n",
       "    <tr>\n",
       "      <th>2017-12-14</th>\n",
       "      <td>173.130005</td>\n",
       "      <td>171.649994</td>\n",
       "      <td>172.399994</td>\n",
       "      <td>172.220001</td>\n",
       "      <td>20476500</td>\n",
       "      <td>167.161057</td>\n",
       "    </tr>\n",
       "    <tr>\n",
       "      <th>2017-12-15</th>\n",
       "      <td>174.169998</td>\n",
       "      <td>172.460007</td>\n",
       "      <td>173.630005</td>\n",
       "      <td>173.970001</td>\n",
       "      <td>40169300</td>\n",
       "      <td>168.859665</td>\n",
       "    </tr>\n",
       "    <tr>\n",
       "      <th>2017-12-18</th>\n",
       "      <td>177.199997</td>\n",
       "      <td>174.860001</td>\n",
       "      <td>174.880005</td>\n",
       "      <td>176.419998</td>\n",
       "      <td>29421100</td>\n",
       "      <td>171.237717</td>\n",
       "    </tr>\n",
       "    <tr>\n",
       "      <th>2017-12-19</th>\n",
       "      <td>175.389999</td>\n",
       "      <td>174.089996</td>\n",
       "      <td>175.029999</td>\n",
       "      <td>174.539993</td>\n",
       "      <td>27436400</td>\n",
       "      <td>169.412903</td>\n",
       "    </tr>\n",
       "    <tr>\n",
       "      <th>2017-12-20</th>\n",
       "      <td>175.419998</td>\n",
       "      <td>173.250000</td>\n",
       "      <td>174.869995</td>\n",
       "      <td>174.350006</td>\n",
       "      <td>23475600</td>\n",
       "      <td>169.228500</td>\n",
       "    </tr>\n",
       "    <tr>\n",
       "      <th>2017-12-21</th>\n",
       "      <td>176.020004</td>\n",
       "      <td>174.100006</td>\n",
       "      <td>174.169998</td>\n",
       "      <td>175.009995</td>\n",
       "      <td>20949900</td>\n",
       "      <td>169.869110</td>\n",
       "    </tr>\n",
       "    <tr>\n",
       "      <th>2017-12-22</th>\n",
       "      <td>175.419998</td>\n",
       "      <td>174.500000</td>\n",
       "      <td>174.679993</td>\n",
       "      <td>175.009995</td>\n",
       "      <td>16349400</td>\n",
       "      <td>169.869110</td>\n",
       "    </tr>\n",
       "    <tr>\n",
       "      <th>2017-12-26</th>\n",
       "      <td>171.470001</td>\n",
       "      <td>169.679993</td>\n",
       "      <td>170.800003</td>\n",
       "      <td>170.570007</td>\n",
       "      <td>33185500</td>\n",
       "      <td>165.559555</td>\n",
       "    </tr>\n",
       "    <tr>\n",
       "      <th>2017-12-27</th>\n",
       "      <td>170.779999</td>\n",
       "      <td>169.710007</td>\n",
       "      <td>170.100006</td>\n",
       "      <td>170.600006</td>\n",
       "      <td>21498200</td>\n",
       "      <td>165.588669</td>\n",
       "    </tr>\n",
       "    <tr>\n",
       "      <th>2017-12-28</th>\n",
       "      <td>171.850006</td>\n",
       "      <td>170.479996</td>\n",
       "      <td>171.000000</td>\n",
       "      <td>171.080002</td>\n",
       "      <td>16480200</td>\n",
       "      <td>166.054581</td>\n",
       "    </tr>\n",
       "    <tr>\n",
       "      <th>2017-12-29</th>\n",
       "      <td>170.589996</td>\n",
       "      <td>169.220001</td>\n",
       "      <td>170.520004</td>\n",
       "      <td>169.229996</td>\n",
       "      <td>25999900</td>\n",
       "      <td>164.258896</td>\n",
       "    </tr>\n",
       "  </tbody>\n",
       "</table>\n",
       "</div>"
      ],
      "text/plain": [
       "                  High         Low        Open       Close    Volume   Adj Close\n",
       "Date                                                                            \n",
       "2017-11-30  172.139999  168.440002  170.429993  171.850006  41527200  166.801956\n",
       "2017-12-01  171.669998  168.500000  169.949997  171.050003  39759300  166.025436\n",
       "2017-12-04  172.619995  169.630005  172.479996  169.800003  32542400  164.812134\n",
       "2017-12-05  171.520004  168.399994  169.059998  169.639999  27350200  164.656845\n",
       "2017-12-06  170.199997  166.460007  167.500000  169.009995  28560000  164.045380\n",
       "2017-12-07  170.440002  168.910004  169.029999  169.320007  25673300  164.346298\n",
       "2017-12-08  171.000000  168.820007  170.490005  169.369995  23355200  164.394775\n",
       "2017-12-11  172.889999  168.789993  169.199997  172.669998  35273800  167.597855\n",
       "2017-12-12  172.389999  171.460007  172.149994  171.699997  19409200  166.656357\n",
       "2017-12-13  173.539993  172.000000  172.500000  172.270004  23818400  167.209610\n",
       "2017-12-14  173.130005  171.649994  172.399994  172.220001  20476500  167.161057\n",
       "2017-12-15  174.169998  172.460007  173.630005  173.970001  40169300  168.859665\n",
       "2017-12-18  177.199997  174.860001  174.880005  176.419998  29421100  171.237717\n",
       "2017-12-19  175.389999  174.089996  175.029999  174.539993  27436400  169.412903\n",
       "2017-12-20  175.419998  173.250000  174.869995  174.350006  23475600  169.228500\n",
       "2017-12-21  176.020004  174.100006  174.169998  175.009995  20949900  169.869110\n",
       "2017-12-22  175.419998  174.500000  174.679993  175.009995  16349400  169.869110\n",
       "2017-12-26  171.470001  169.679993  170.800003  170.570007  33185500  165.559555\n",
       "2017-12-27  170.779999  169.710007  170.100006  170.600006  21498200  165.588669\n",
       "2017-12-28  171.850006  170.479996  171.000000  171.080002  16480200  166.054581\n",
       "2017-12-29  170.589996  169.220001  170.520004  169.229996  25999900  164.258896"
      ]
     },
     "execution_count": 17,
     "metadata": {},
     "output_type": "execute_result"
    }
   ],
   "source": [
    "#df=data.DataReader('GOOG','iex',api_key='YAHOO',start=start_date,end=end_date)\n",
    "df=data.get_data_yahoo(\"AAPL\",start_date,end_date)\n",
    "df"
   ]
  },
  {
   "cell_type": "code",
   "execution_count": 32,
   "metadata": {},
   "outputs": [],
   "source": [
    "#aapl = data.DataReader(\"AAPL\", 'ff', api_key ='google' ,start=start_date,end=end_date)\n",
    "#aapl.head()"
   ]
  },
  {
   "cell_type": "code",
   "execution_count": 39,
   "metadata": {},
   "outputs": [],
   "source": [
    "import pandas_datareader as web\n",
    "import pandas as pd\n",
    "import datetime as dt\n",
    "from mpl_finance import candlestick2_ohlc\n",
    "start = dt.datetime(2015, 1, 1)\n",
    "end = dt.datetime.now()"
   ]
  },
  {
   "cell_type": "code",
   "execution_count": 68,
   "metadata": {},
   "outputs": [],
   "source": [
    "data=web.DataReader(\"AAPL\",\"yahoo\",start, end)"
   ]
  },
  {
   "cell_type": "code",
   "execution_count": 49,
   "metadata": {},
   "outputs": [
    {
     "name": "stdout",
     "output_type": "stream",
     "text": [
      "                  High         Low        Open       Close      Volume   Adj Close\n",
      "Date                                                                              \n",
      "2014-12-31  113.129997  110.209999  112.820000  110.379997  41403400.0  101.419060\n",
      "2015-01-02  111.440002  107.349998  111.389999  109.330002  53204600.0  100.454300\n",
      "2015-01-05  108.650002  105.410004  108.290001  106.250000  64285500.0   97.624336\n",
      "2015-01-06  107.430000  104.629997  106.540001  106.260002  65797100.0   97.633545\n",
      "2015-01-07  108.199997  106.699997  107.199997  107.750000  40105900.0   99.002556\n",
      "...                ...         ...         ...         ...         ...         ...\n",
      "2020-01-29  327.850006  321.380005  324.450012  324.339996  54057300.0  324.339996\n",
      "2020-01-30  324.089996  318.750000  320.540009  323.869995  31685800.0  323.869995\n",
      "2020-01-31  322.679993  308.290009  320.929993  309.510010  49897100.0  309.510010\n",
      "2020-02-03  313.489990  302.220001  304.299988  308.660004  43496400.0  308.660004\n",
      "2020-02-04  319.640015  313.630005  315.309998  318.850006  34069200.0  318.850006\n",
      "\n",
      "[1282 rows x 6 columns]\n"
     ]
    }
   ],
   "source": [
    "print(data)\n"
   ]
  },
  {
   "cell_type": "code",
   "execution_count": 42,
   "metadata": {},
   "outputs": [],
   "source": [
    "import matplotlib.pyplot as plt\n",
    "import matplotlib.dates as mdates\n"
   ]
  },
  {
   "cell_type": "code",
   "execution_count": 79,
   "metadata": {},
   "outputs": [
    {
     "name": "stdout",
     "output_type": "stream",
     "text": [
      "           Date        Open        High         Low       Close\n",
      "0    2014-12-31  112.820000  113.129997  110.209999  110.379997\n",
      "1    2015-01-02  111.389999  111.440002  107.349998  109.330002\n",
      "2    2015-01-05  108.290001  108.650002  105.410004  106.250000\n",
      "3    2015-01-06  106.540001  107.430000  104.629997  106.260002\n",
      "4    2015-01-07  107.199997  108.199997  106.699997  107.750000\n",
      "...         ...         ...         ...         ...         ...\n",
      "1277 2020-01-29  324.450012  327.850006  321.380005  324.339996\n",
      "1278 2020-01-30  320.540009  324.089996  318.750000  323.869995\n",
      "1279 2020-01-31  320.929993  322.679993  308.290009  309.510010\n",
      "1280 2020-02-03  304.299988  313.489990  302.220001  308.660004\n",
      "1281 2020-02-04  315.309998  319.640015  313.630005  318.850006\n",
      "\n",
      "[1282 rows x 5 columns]\n"
     ]
    }
   ],
   "source": [
    "data=data[['Open','High','Low','Close']]\n",
    "data.reset_index(inplace=True)\n",
    "print(data)"
   ]
  },
  {
   "cell_type": "code",
   "execution_count": 80,
   "metadata": {},
   "outputs": [
    {
     "name": "stdout",
     "output_type": "stream",
     "text": [
      "          Date        Open        High         Low       Close\n",
      "0     735598.0  112.820000  113.129997  110.209999  110.379997\n",
      "1     735600.0  111.389999  111.440002  107.349998  109.330002\n",
      "2     735603.0  108.290001  108.650002  105.410004  106.250000\n",
      "3     735604.0  106.540001  107.430000  104.629997  106.260002\n",
      "4     735605.0  107.199997  108.199997  106.699997  107.750000\n",
      "...        ...         ...         ...         ...         ...\n",
      "1277  737453.0  324.450012  327.850006  321.380005  324.339996\n",
      "1278  737454.0  320.540009  324.089996  318.750000  323.869995\n",
      "1279  737455.0  320.929993  322.679993  308.290009  309.510010\n",
      "1280  737458.0  304.299988  313.489990  302.220001  308.660004\n",
      "1281  737459.0  315.309998  319.640015  313.630005  318.850006\n",
      "\n",
      "[1282 rows x 5 columns]\n"
     ]
    }
   ],
   "source": [
    "data['Date']=data['Date'].map(mdates.date2num)\n",
    "\n",
    "print(data)"
   ]
  },
  {
   "cell_type": "code",
   "execution_count": 100,
   "metadata": {},
   "outputs": [
    {
     "name": "stdout",
     "output_type": "stream",
     "text": [
      "[735598. 735600. 735603. ... 737455. 737458. 737459.]\n"
     ]
    }
   ],
   "source": [
    "print(data['Date'].values)"
   ]
  },
  {
   "cell_type": "code",
   "execution_count": 109,
   "metadata": {},
   "outputs": [
    {
     "ename": "TypeError",
     "evalue": "candlestick2_ohlc() missing 3 required positional arguments: 'highs', 'lows', and 'closes'",
     "output_type": "error",
     "traceback": [
      "\u001b[1;31m---------------------------------------------------------------------------\u001b[0m",
      "\u001b[1;31mTypeError\u001b[0m                                 Traceback (most recent call last)",
      "\u001b[1;32m<ipython-input-109-76b2850cb024>\u001b[0m in \u001b[0;36m<module>\u001b[1;34m\u001b[0m\n\u001b[0;32m      1\u001b[0m \u001b[0max\u001b[0m\u001b[1;33m=\u001b[0m\u001b[0mplt\u001b[0m\u001b[1;33m.\u001b[0m\u001b[0msubplot\u001b[0m\u001b[1;33m(\u001b[0m\u001b[1;33m)\u001b[0m\u001b[1;33m\u001b[0m\u001b[1;33m\u001b[0m\u001b[0m\n\u001b[0;32m      2\u001b[0m \u001b[0max\u001b[0m\u001b[1;33m.\u001b[0m\u001b[0mxaxis_date\u001b[0m\u001b[1;33m(\u001b[0m\u001b[1;33m)\u001b[0m\u001b[1;33m\u001b[0m\u001b[1;33m\u001b[0m\u001b[0m\n\u001b[1;32m----> 3\u001b[1;33m \u001b[0mcandlestick2_ohlc\u001b[0m\u001b[1;33m(\u001b[0m\u001b[0max\u001b[0m\u001b[1;33m,\u001b[0m \u001b[0mdata\u001b[0m\u001b[1;33m.\u001b[0m\u001b[0mvalues\u001b[0m\u001b[1;33m)\u001b[0m\u001b[1;33m\u001b[0m\u001b[1;33m\u001b[0m\u001b[0m\n\u001b[0m\u001b[0;32m      4\u001b[0m \u001b[0mplt\u001b[0m\u001b[1;33m.\u001b[0m\u001b[0mshow\u001b[0m\u001b[1;33m(\u001b[0m\u001b[1;33m)\u001b[0m\u001b[1;33m\u001b[0m\u001b[1;33m\u001b[0m\u001b[0m\n",
      "\u001b[1;31mTypeError\u001b[0m: candlestick2_ohlc() missing 3 required positional arguments: 'highs', 'lows', and 'closes'"
     ]
    },
    {
     "data": {
      "image/png": "[encoded data removed]",
      "text/plain": [
       "<Figure size 432x288 with 1 Axes>"
      ]
     },
     "metadata": {
      "needs_background": "light"
     },
     "output_type": "display_data"
    }
   ],
   "source": [
    "ax=plt.subplot()\n",
    "ax.xaxis_date()\n",
    "candlestick2_ohlc(ax, data.values)\n",
    "plt.show()"
   ]
  },
  {
   "cell_type": "code",
   "execution_count": null,
   "metadata": {},
   "outputs": [],
   "source": [
    "candlestick2_ohlc(ax, data['Open'].values,data['High'].values,data['Low'].values,data['Close'].values)\n"
   ]
  },
  {
   "cell_type": "code",
   "execution_count": 112,
   "metadata": {},
   "outputs": [],
   "source": [
    "%matplotlib inline\n",
    "candlestick2_ohlc(ax, data['Open'],data['High'],data['Low'],data['Close'])\n",
    "plt.show()"
   ]
  }
 ],
 "metadata": {
  "kernelspec": {
   "display_name": "Python 3",
   "language": "python",
   "name": "python3"
  },
  "language_info": {
   "codemirror_mode": {
    "name": "ipython",
    "version": 3
   },
   "file_extension": ".py",
   "mimetype": "text/x-python",
   "name": "python",
   "nbconvert_exporter": "python",
   "pygments_lexer": "ipython3",
   "version": "3.8.1"
  }
 },
 "nbformat": 4,
 "nbformat_minor": 2
}
