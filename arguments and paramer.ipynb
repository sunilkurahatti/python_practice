{
 "cells": [
  {
   "cell_type": "code",
   "execution_count": 1,
   "metadata": {},
   "outputs": [
    {
     "name": "stdout",
     "output_type": "stream",
     "text": [
      "==============OM=============\n"
     ]
    }
   ],
   "source": [
    "print(\"==============OM=============\")"
   ]
  },
  {
   "cell_type": "markdown",
   "metadata": {},
   "source": [
    "# Arguments and parameter in function"
   ]
  },
  {
   "cell_type": "code",
   "execution_count": 23,
   "metadata": {},
   "outputs": [
    {
     "name": "stdout",
     "output_type": "stream",
     "text": [
      "Ford icon does 83.33333333333333 per gallon of fuel\n"
     ]
    }
   ],
   "source": [
    "car={\n",
    "    \"make\":\"Ford\",\n",
    "    \"model\":\"icon\",\n",
    "    \"mileage\":50000,\n",
    "    \"fuel Consumed\":600\n",
    "}\n",
    "\n",
    "mpg=car[\"mileage\"]/car[\"fuel Consumed\"]\n",
    "name=f\"{car['make']} {car['model']}\"\n",
    "print(f\"{name} does {mpg} per gallon of fuel\")"
   ]
  },
  {
   "cell_type": "code",
   "execution_count": 24,
   "metadata": {},
   "outputs": [
    {
     "name": "stdout",
     "output_type": "stream",
     "text": [
      "Ford icon does 83.33333333333333 per gallon of fuel\n"
     ]
    }
   ],
   "source": [
    "def calculate_mpg():\n",
    "    car={\n",
    "        \"make\":\"Ford\",\n",
    "        \"model\":\"icon\",\n",
    "        \"mileage\":50000,\n",
    "        \"fuel Consumed\":600\n",
    "    }\n",
    "\n",
    "    mpg=car[\"mileage\"]/car[\"fuel Consumed\"]\n",
    "    name=f\"{car['make']} {car['model']}\"\n",
    "    print(f\"{name} does {mpg} per gallon of fuel\")\n",
    "\n",
    "calculate_mpg()  "
   ]
  },
  {
   "cell_type": "code",
   "execution_count": 25,
   "metadata": {},
   "outputs": [
    {
     "name": "stdout",
     "output_type": "stream",
     "text": [
      "Ford icon does 83.33333333333333 per gallon of fuel\n"
     ]
    }
   ],
   "source": [
    "car={\n",
    "    \"make\":\"Ford\",\n",
    "    \"model\":\"icon\",\n",
    "    \"mileage\":50000,\n",
    "    \"fuel Consumed\":600\n",
    "}\n",
    "\n",
    "def calculate_mpg(car_to_calculate):\n",
    "    mpg=car_to_calculate[\"mileage\"]/car_to_calculate[\"fuel Consumed\"]\n",
    "    name=f\"{car_to_calculate['make']} {car_to_calculate['model']}\"\n",
    "    print(f\"{name} does {mpg} per gallon of fuel\")\n",
    "\n",
    "\n",
    "calculate_mpg(car)"
   ]
  },
  {
   "cell_type": "code",
   "execution_count": 26,
   "metadata": {},
   "outputs": [
    {
     "name": "stdout",
     "output_type": "stream",
     "text": [
      "Ford icon does 100.0 per gallon of fuel\n"
     ]
    }
   ],
   "source": [
    "cars =[{\"make\":\"Ford\",\"model\":\"icon\",\"mileage\":40000,\"fuel consumed\":400},\n",
    "       {\"make\":\"maruti\",\"model\":\"swift\",\"mileage\":20000,\"fuel consumed\":150},\n",
    "       {\"make\":\"tata\",\"model\":\"indica\",\"mileage\":35000,\"fuel consumed\":200},\n",
    "       {\"make\":\"hyundai\",\"model\":\"i-20\",\"mileage\":50000,\"fuel consumed\":400},\n",
    "       {\"make\":\"BMW\",\"model\":\"X1\",\"mileage\":10000,\"fuel consumed\":100}\n",
    "      ]\n",
    "\n",
    "def calculate_mpg(car_to_calculate):\n",
    "    mpg=car_to_calculate[\"mileage\"]/car_to_calculate[\"fuel consumed\"]\n",
    "    name=f\"{car_to_calculate['make']} {car_to_calculate['model']}\"\n",
    "    print(f\"{name} does {mpg} per gallon of fuel\")\n",
    "    \n",
    "\n",
    "calculate_mpg(cars[0])    "
   ]
  },
  {
   "cell_type": "code",
   "execution_count": 27,
   "metadata": {},
   "outputs": [
    {
     "name": "stdout",
     "output_type": "stream",
     "text": [
      "Ford icon does 100.0 per gallon of fuel\n",
      "maruti swift does 133.33333333333334 per gallon of fuel\n",
      "tata indica does 175.0 per gallon of fuel\n",
      "hyundai i-20 does 125.0 per gallon of fuel\n",
      "BMW X1 does 100.0 per gallon of fuel\n"
     ]
    }
   ],
   "source": [
    "cars =[{\"make\":\"Ford\",\"model\":\"icon\",\"mileage\":40000,\"fuel consumed\":400},\n",
    "       {\"make\":\"maruti\",\"model\":\"swift\",\"mileage\":20000,\"fuel consumed\":150},\n",
    "       {\"make\":\"tata\",\"model\":\"indica\",\"mileage\":35000,\"fuel consumed\":200},\n",
    "       {\"make\":\"hyundai\",\"model\":\"i-20\",\"mileage\":50000,\"fuel consumed\":400},\n",
    "       {\"make\":\"BMW\",\"model\":\"X1\",\"mileage\":10000,\"fuel consumed\":100}\n",
    "      ]\n",
    "\n",
    "def calculate_mpg(car_to_calculate):\n",
    "    mpg=car_to_calculate[\"mileage\"]/car_to_calculate[\"fuel consumed\"]\n",
    "    name=f\"{car_to_calculate['make']} {car_to_calculate['model']}\"\n",
    "    print(f\"{name} does {mpg} per gallon of fuel\")\n",
    "    \n",
    "\n",
    "for car_i in cars:\n",
    "    calculate_mpg(car_i)    "
   ]
  },
  {
   "cell_type": "code",
   "execution_count": 28,
   "metadata": {},
   "outputs": [
    {
     "name": "stdout",
     "output_type": "stream",
     "text": [
      "New car\n",
      "Ford icon does 100.0 per gallon of fuel\n",
      "New car\n",
      "maruti swift does 133.33333333333334 per gallon of fuel\n",
      "New car\n",
      "tata indica does 175.0 per gallon of fuel\n",
      "New car\n",
      "hyundai i-20 does 125.0 per gallon of fuel\n",
      "New car\n",
      "BMW X1 does 100.0 per gallon of fuel\n"
     ]
    }
   ],
   "source": [
    "cars =[{\"make\":\"Ford\",\"model\":\"icon\",\"mileage\":40000,\"fuel consumed\":400},\n",
    "       {\"make\":\"maruti\",\"model\":\"swift\",\"mileage\":20000,\"fuel consumed\":150},\n",
    "       {\"make\":\"tata\",\"model\":\"indica\",\"mileage\":35000,\"fuel consumed\":200},\n",
    "       {\"make\":\"hyundai\",\"model\":\"i-20\",\"mileage\":50000,\"fuel consumed\":400},\n",
    "       {\"make\":\"BMW\",\"model\":\"X1\",\"mileage\":10000,\"fuel consumed\":100}\n",
    "      ]\n",
    "\n",
    "def calculate_mpg(car_to_calculate, intro):\n",
    "    print(intro)\n",
    "    mpg=car_to_calculate[\"mileage\"]/car_to_calculate[\"fuel consumed\"]\n",
    "    name=f\"{car_to_calculate['make']} {car_to_calculate['model']}\"\n",
    "    print(f\"{name} does {mpg} per gallon of fuel\")\n",
    "    \n",
    "\n",
    "for car_i in cars:\n",
    "    calculate_mpg(car_i, \"New car\")    "
   ]
  }
 ],
 "metadata": {
  "kernelspec": {
   "display_name": "Python 3",
   "language": "python",
   "name": "python3"
  },
  "language_info": {
   "codemirror_mode": {
    "name": "ipython",
    "version": 3
   },
   "file_extension": ".py",
   "mimetype": "text/x-python",
   "name": "python",
   "nbconvert_exporter": "python",
   "pygments_lexer": "ipython3",
   "version": "3.8.1"
  }
 },
 "nbformat": 4,
 "nbformat_minor": 2
}
