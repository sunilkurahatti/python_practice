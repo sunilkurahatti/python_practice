{
 "cells": [
  {
   "cell_type": "code",
   "execution_count": 1,
   "metadata": {},
   "outputs": [
    {
     "name": "stdout",
     "output_type": "stream",
     "text": [
      "=============OM=============\n"
     ]
    }
   ],
   "source": [
    "print(\"=============OM=============\")"
   ]
  },
  {
   "cell_type": "markdown",
   "metadata": {},
   "source": [
    "# break and continue\n"
   ]
  },
  {
   "cell_type": "code",
   "execution_count": 5,
   "metadata": {},
   "outputs": [
    {
     "name": "stdout",
     "output_type": "stream",
     "text": [
      "car is ok\n",
      "shipping the ok car\n",
      "car is ok\n",
      "shipping the ok car\n",
      "car is ok\n",
      "shipping the ok car\n",
      "found faulty car skipping it\n",
      "car is ok\n",
      "shipping the ok car\n",
      "car is ok\n",
      "shipping the ok car\n",
      "car is ok\n",
      "shipping the ok car\n"
     ]
    }
   ],
   "source": [
    "car=[\"ok\",\"ok\",\"ok\",\"faulty\",\"ok\",\"ok\",\"ok\"]\n",
    "\n",
    "for status in car:\n",
    "    if status=='faulty':\n",
    "        print(\"found faulty car skipping it\")\n",
    "        continue\n",
    "    print(f\"car is {status}\")\n",
    "    print(f\"shipping the {status} car\")\n",
    "    "
   ]
  },
  {
   "cell_type": "code",
   "execution_count": 9,
   "metadata": {},
   "outputs": [
    {
     "name": "stdout",
     "output_type": "stream",
     "text": [
      "car is ok\n",
      "shipping the ok car\n",
      "car is ok\n",
      "shipping the ok car\n",
      "car is ok\n",
      "shipping the ok car\n",
      "found faulty car \n"
     ]
    }
   ],
   "source": [
    "car=[\"ok\",\"ok\",\"ok\",\"faulty\",\"ok\",\"ok\",\"ok\"]\n",
    "\n",
    "for status in car:\n",
    "    if status=='faulty':\n",
    "        print(\"found faulty car \")\n",
    "        break\n",
    "    print(f\"car is {status}\")\n",
    "    print(f\"shipping the {status} car\")\n",
    "        "
   ]
  },
  {
   "cell_type": "markdown",
   "metadata": {},
   "source": [
    "# FIz BUZZ Challange"
   ]
  },
  {
   "cell_type": "markdown",
   "metadata": {},
   "source": [
    "        # Print out numbers from 1 to 100 (including 100).\n",
    "        # But, instead of printing multiples of 3, print \"Fizz\"\n",
    "        # Instead of printing multiples of 5, print \"Buzz\"\n",
    "        # Instead of printing multiples of both 3 and 5, print \"FizzBuzz\".\n",
    "\n",
    "\n"
   ]
  },
  {
   "cell_type": "code",
   "execution_count": 16,
   "metadata": {},
   "outputs": [
    {
     "name": "stdout",
     "output_type": "stream",
     "text": [
      "1\n",
      "2\n",
      "fizz\n",
      "4\n",
      "buzz\n",
      "fizz\n",
      "7\n",
      "8\n",
      "fizz\n",
      "buzz\n",
      "11\n",
      "fizz\n",
      "13\n",
      "14\n",
      "fizzBuzz\n",
      "16\n",
      "17\n",
      "fizz\n",
      "19\n",
      "buzz\n",
      "fizz\n",
      "22\n",
      "23\n",
      "fizz\n",
      "buzz\n",
      "26\n",
      "fizz\n",
      "28\n",
      "29\n",
      "fizzBuzz\n",
      "31\n",
      "32\n",
      "fizz\n",
      "34\n",
      "buzz\n",
      "fizz\n",
      "37\n",
      "38\n",
      "fizz\n",
      "buzz\n",
      "41\n",
      "fizz\n",
      "43\n",
      "44\n",
      "fizzBuzz\n",
      "46\n",
      "47\n",
      "fizz\n",
      "49\n",
      "buzz\n",
      "fizz\n",
      "52\n",
      "53\n",
      "fizz\n",
      "buzz\n",
      "56\n",
      "fizz\n",
      "58\n",
      "59\n",
      "fizzBuzz\n",
      "61\n",
      "62\n",
      "fizz\n",
      "64\n",
      "buzz\n",
      "fizz\n",
      "67\n",
      "68\n",
      "fizz\n",
      "buzz\n",
      "71\n",
      "fizz\n",
      "73\n",
      "74\n",
      "fizzBuzz\n",
      "76\n",
      "77\n",
      "fizz\n",
      "79\n",
      "buzz\n",
      "fizz\n",
      "82\n",
      "83\n",
      "fizz\n",
      "buzz\n",
      "86\n",
      "fizz\n",
      "88\n",
      "89\n",
      "fizzBuzz\n",
      "91\n",
      "92\n",
      "fizz\n",
      "94\n",
      "buzz\n",
      "fizz\n",
      "97\n",
      "98\n",
      "fizz\n",
      "buzz\n"
     ]
    }
   ],
   "source": [
    "import math\n",
    "for i in range(1,101):\n",
    "    if i % 3 ==0 and i % 5==0:\n",
    "        print(\"fizzBuzz\")\n",
    "    elif i % 3==0:\n",
    "        print(\"fizz\")\n",
    "    elif i%5==0:\n",
    "        print(\"buzz\")\n",
    "    else:\n",
    "        print(i)"
   ]
  }
 ],
 "metadata": {
  "kernelspec": {
   "display_name": "Python 3",
   "language": "python",
   "name": "python3"
  },
  "language_info": {
   "codemirror_mode": {
    "name": "ipython",
    "version": 3
   },
   "file_extension": ".py",
   "mimetype": "text/x-python",
   "name": "python",
   "nbconvert_exporter": "python",
   "pygments_lexer": "ipython3",
   "version": "3.8.1"
  }
 },
 "nbformat": 4,
 "nbformat_minor": 2
}
