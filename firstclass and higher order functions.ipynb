{
 "cells": [
  {
   "cell_type": "code",
   "execution_count": 1,
   "metadata": {},
   "outputs": [
    {
     "name": "stdout",
     "output_type": "stream",
     "text": [
      "================OM===============\n"
     ]
    }
   ],
   "source": [
    "print(\"================OM===============\")"
   ]
  },
  {
   "cell_type": "markdown",
   "metadata": {},
   "source": [
    "# First class and higher order functions"
   ]
  },
  {
   "cell_type": "code",
   "execution_count": 2,
   "metadata": {},
   "outputs": [
    {
     "name": "stdout",
     "output_type": "stream",
     "text": [
      "Hello!!!!\n"
     ]
    }
   ],
   "source": [
    "def greet():\n",
    "    print(\"Hello!!!!\")\n",
    "    \n",
    "    \n",
    "hi=greet\n",
    "\n",
    "hi()"
   ]
  },
  {
   "cell_type": "markdown",
   "metadata": {},
   "source": [
    "#### in the above example you van assign function as variable to another without using parenthesis "
   ]
  },
  {
   "cell_type": "markdown",
   "metadata": {},
   "source": [
    "## passing function as parameter"
   ]
  },
  {
   "cell_type": "code",
   "execution_count": 5,
   "metadata": {},
   "outputs": [
    {
     "name": "stdout",
     "output_type": "stream",
     "text": [
      "Before function.....\n",
      "Hello there\n",
      "After function......\n"
     ]
    }
   ],
   "source": [
    "def before_and_after(func):\n",
    "    print(\"Before function.....\")\n",
    "    func()\n",
    "    print(\"After function......\")\n",
    "    \n",
    "def my_func():\n",
    "    print(\"Hello there\")\n",
    "    \n",
    "    \n",
    "before_and_after(my_func)\n"
   ]
  },
  {
   "cell_type": "markdown",
   "metadata": {},
   "source": [
    "#### all functions in python are first class function\n",
    "\n",
    "#### functions like def before_and_after(func) are higher orer functions"
   ]
  },
  {
   "cell_type": "code",
   "execution_count": null,
   "metadata": {},
   "outputs": [],
   "source": [
    "def before_and_after(func):\n",
    "    print(\"Before function.....\")\n",
    "    func()\n",
    "    print(\"After function......\")\n",
    "    \n",
    "def my_func():\n",
    "    print(\"Hello there\")\n",
    "    \n",
    "    \n",
    "before_and_after(my_func)\n"
   ]
  },
  {
   "cell_type": "markdown",
   "metadata": {},
   "source": [
    "# Extending lambda function"
   ]
  },
  {
   "cell_type": "code",
   "execution_count": 6,
   "metadata": {},
   "outputs": [
    {
     "name": "stdout",
     "output_type": "stream",
     "text": [
      "for student andy\n",
      "please enter the operation to perform: average, total and toptop\n",
      "90\n",
      "for student sam\n",
      "please enter the operation to perform: average, total and toptotal\n",
      "384\n",
      "for student linda\n",
      "please enter the operation to perform: average, total and topaverage\n",
      "66.8\n",
      "for student mike\n",
      "please enter the operation to perform: average, total and toptop\n",
      "95\n"
     ]
    }
   ],
   "source": [
    "operations ={\n",
    "    \"average\": lambda seq: sum(seq)/len(seq),\n",
    "    \"total\": lambda seq: sum(seq),\n",
    "    \"top\": lambda seq: max(seq)\n",
    "}\n",
    "\n",
    "students =[\n",
    "    {\"name\":\"andy\", \"grades\":(67,45,90,89,90)},\n",
    "    {\"name\":\"sam\", \"grades\":(63,65,77,88,91)},\n",
    "    {\"name\":\"linda\", \"grades\":(63,46,60,69,96)},\n",
    "    {\"name\":\"mike\", \"grades\":(64,45,50,49,95)},\n",
    "]\n",
    "\n",
    "for student in students:\n",
    "    name=student[\"name\"]\n",
    "    grade=student[\"grades\"]\n",
    "    \n",
    "    print(f\"for student {name}\")\n",
    "    operation=input(\"please enter the operation to perform: average, total and top\")\n",
    "    result=operations[operation](grade)\n",
    "    print(result)"
   ]
  },
  {
   "cell_type": "code",
   "execution_count": 10,
   "metadata": {},
   "outputs": [
    {
     "name": "stdout",
     "output_type": "stream",
     "text": [
      "True\n"
     ]
    }
   ],
   "source": [
    "def over_age(data, getter):\n",
    "    return getter(data) >= 18\n",
    "\n",
    "user = { 'username': 'rolf123', 'age': '35' }\n",
    "\n",
    "print(over_age(user, lambda x: int(x['age'])))"
   ]
  }
 ],
 "metadata": {
  "kernelspec": {
   "display_name": "Python 3",
   "language": "python",
   "name": "python3"
  },
  "language_info": {
   "codemirror_mode": {
    "name": "ipython",
    "version": 3
   },
   "file_extension": ".py",
   "mimetype": "text/x-python",
   "name": "python",
   "nbconvert_exporter": "python",
   "pygments_lexer": "ipython3",
   "version": "3.8.1"
  }
 },
 "nbformat": 4,
 "nbformat_minor": 2
}
