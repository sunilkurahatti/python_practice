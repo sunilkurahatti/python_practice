{
 "cells": [
  {
   "cell_type": "code",
   "execution_count": 1,
   "metadata": {},
   "outputs": [
    {
     "name": "stdout",
     "output_type": "stream",
     "text": [
      "===========OM=============\n"
     ]
    }
   ],
   "source": [
    "print(\"===========OM=============\")"
   ]
  },
  {
   "cell_type": "markdown",
   "metadata": {},
   "source": [
    "# for loop "
   ]
  },
  {
   "cell_type": "code",
   "execution_count": 5,
   "metadata": {},
   "outputs": [
    {
     "name": "stdout",
     "output_type": "stream",
     "text": [
      "1\n",
      "2\n",
      "3\n",
      "4\n",
      "5\n",
      "6\n",
      "7\n",
      "8\n",
      "9\n",
      "10\n"
     ]
    }
   ],
   "source": [
    "for i in range(1,11):\n",
    "    print(i)"
   ]
  },
  {
   "cell_type": "code",
   "execution_count": 6,
   "metadata": {},
   "outputs": [
    {
     "name": "stdout",
     "output_type": "stream",
     "text": [
      "1\n",
      "4\n",
      "9\n",
      "16\n",
      "25\n",
      "36\n",
      "49\n",
      "64\n",
      "81\n",
      "100\n"
     ]
    }
   ],
   "source": [
    "for _ in range(1,11):\n",
    "    print(_*_)"
   ]
  },
  {
   "cell_type": "code",
   "execution_count": 9,
   "metadata": {},
   "outputs": [
    {
     "name": "stdout",
     "output_type": "stream",
     "text": [
      "andy, has a greade of 90\n",
      "sam, has a greade of 60\n",
      "Hary, has a greade of 20\n",
      "jake, has a greade of 92\n"
     ]
    }
   ],
   "source": [
    "students =[{\"name\":\"andy\",\"grade\":90},\n",
    "           {\"name\":\"sam\",\"grade\":60},\n",
    "           {\"name\":\"Hary\",\"grade\":20},\n",
    "           {\"name\":\"jake\",\"grade\":92}\n",
    "          ]\n",
    "\n",
    "for student in students:\n",
    "    name=student[\"name\"]\n",
    "    grade=student[\"grade\"]\n",
    "    \n",
    "    print(f\"{name}, has a greade of {grade}\")"
   ]
  },
  {
   "cell_type": "code",
   "execution_count": 19,
   "metadata": {},
   "outputs": [
    {
     "name": "stdout",
     "output_type": "stream",
     "text": [
      "andy\n",
      "sam\n",
      "Hary\n",
      "jake\n"
     ]
    }
   ],
   "source": [
    "students =[{\"name\":\"andy\",\"grade\":90},\n",
    "           {\"name\":\"sam\",\"grade\":60},\n",
    "           {\"name\":\"Hary\",\"grade\":20},\n",
    "           {\"name\":\"jake\",\"grade\":92}\n",
    "          ]\n",
    "\n",
    "for student in students:\n",
    "    print(student[\"name\"])"
   ]
  }
 ],
 "metadata": {
  "kernelspec": {
   "display_name": "Python 3",
   "language": "python",
   "name": "python3"
  },
  "language_info": {
   "codemirror_mode": {
    "name": "ipython",
    "version": 3
   },
   "file_extension": ".py",
   "mimetype": "text/x-python",
   "name": "python",
   "nbconvert_exporter": "python",
   "pygments_lexer": "ipython3",
   "version": "3.8.1"
  }
 },
 "nbformat": 4,
 "nbformat_minor": 2
}
