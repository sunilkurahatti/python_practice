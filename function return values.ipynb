{
 "cells": [
  {
   "cell_type": "code",
   "execution_count": 1,
   "metadata": {},
   "outputs": [
    {
     "name": "stdout",
     "output_type": "stream",
     "text": [
      "=============OM==============\n"
     ]
    }
   ],
   "source": [
    "print(\"=============OM==============\")"
   ]
  },
  {
   "cell_type": "markdown",
   "metadata": {},
   "source": [
    "# Functions and return values"
   ]
  },
  {
   "cell_type": "code",
   "execution_count": 2,
   "metadata": {},
   "outputs": [
    {
     "name": "stdout",
     "output_type": "stream",
     "text": [
      "Ford icon does 100.0 per gallon of fuel\n",
      "maruti swift does 133.33333333333334 per gallon of fuel\n",
      "tata indica does 175.0 per gallon of fuel\n",
      "hyundai i-20 does 125.0 per gallon of fuel\n",
      "BMW X1 does 100.0 per gallon of fuel\n"
     ]
    }
   ],
   "source": [
    "cars =[{\"make\":\"Ford\",\"model\":\"icon\",\"mileage\":40000,\"fuel consumed\":400},\n",
    "       {\"make\":\"maruti\",\"model\":\"swift\",\"mileage\":20000,\"fuel consumed\":150},\n",
    "       {\"make\":\"tata\",\"model\":\"indica\",\"mileage\":35000,\"fuel consumed\":200},\n",
    "       {\"make\":\"hyundai\",\"model\":\"i-20\",\"mileage\":50000,\"fuel consumed\":400},\n",
    "       {\"make\":\"BMW\",\"model\":\"X1\",\"mileage\":10000,\"fuel consumed\":100}\n",
    "      ]\n",
    "\n",
    "def calculate_mpg(car_to_calculate):\n",
    "    mpg=car_to_calculate[\"mileage\"]/car_to_calculate[\"fuel consumed\"]\n",
    "    return mpg\n",
    "\n",
    "def calucate_name(car_to_calculate):\n",
    "    name=f\"{car_to_calculate['make']} {car_to_calculate['model']}\"\n",
    "    return name\n",
    "\n",
    "def print_all(car_i):\n",
    "    mpg=calculate_mpg(car_i)\n",
    "    name=calucate_name(car_i)\n",
    "    print(f\"{name} does {mpg} per gallon of fuel\")\n",
    "    \n",
    "\n",
    "for car_i in cars:\n",
    "    print_all(car_i)  "
   ]
  },
  {
   "cell_type": "markdown",
   "metadata": {},
   "source": [
    "# using multiple return values in function"
   ]
  },
  {
   "cell_type": "code",
   "execution_count": 5,
   "metadata": {},
   "outputs": [
    {
     "name": "stdout",
     "output_type": "stream",
     "text": [
      "10.0\n"
     ]
    }
   ],
   "source": [
    "def devide(x,y):\n",
    "    if y==0:\n",
    "        return \"you have tried dividing by zero\"\n",
    "    else:\n",
    "        return x/y\n",
    "    \n",
    "print(devide(40,4))"
   ]
  }
 ],
 "metadata": {
  "kernelspec": {
   "display_name": "Python 3",
   "language": "python",
   "name": "python3"
  },
  "language_info": {
   "codemirror_mode": {
    "name": "ipython",
    "version": 3
   },
   "file_extension": ".py",
   "mimetype": "text/x-python",
   "name": "python",
   "nbconvert_exporter": "python",
   "pygments_lexer": "ipython3",
   "version": "3.8.1"
  }
 },
 "nbformat": 4,
 "nbformat_minor": 2
}
