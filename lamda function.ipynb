{
 "cells": [
  {
   "cell_type": "code",
   "execution_count": 1,
   "metadata": {},
   "outputs": [
    {
     "name": "stdout",
     "output_type": "stream",
     "text": [
      "=============OM=============\n"
     ]
    }
   ],
   "source": [
    "print(\"=============OM=============\")"
   ]
  },
  {
   "cell_type": "markdown",
   "metadata": {},
   "source": [
    "# Lamda function"
   ]
  },
  {
   "cell_type": "code",
   "execution_count": 2,
   "metadata": {},
   "outputs": [
    {
     "name": "stdout",
     "output_type": "stream",
     "text": [
      "76.2\n",
      "76.8\n",
      "66.8\n",
      "60.6\n"
     ]
    }
   ],
   "source": [
    "def average_sc(seq):\n",
    "    return sum(seq)/len(seq)\n",
    "\n",
    "students =[\n",
    "    {\"name\":\"andy\", \"grades\":(67,45,90,89,90)},\n",
    "    {\"name\":\"sam\", \"grades\":(63,65,77,88,91)},\n",
    "    {\"name\":\"linda\", \"grades\":(63,46,60,69,96)},\n",
    "    {\"name\":\"mike\", \"grades\":(64,45,50,49,95)},\n",
    "]\n",
    "\n",
    "for student in students:\n",
    "    print(average_sc(student[\"grades\"]))"
   ]
  },
  {
   "cell_type": "markdown",
   "metadata": {},
   "source": [
    "#### using lamda"
   ]
  },
  {
   "cell_type": "code",
   "execution_count": 3,
   "metadata": {},
   "outputs": [
    {
     "name": "stdout",
     "output_type": "stream",
     "text": [
      "76.2\n",
      "76.8\n",
      "66.8\n",
      "60.6\n"
     ]
    }
   ],
   "source": [
    "average_sc=lambda seq: sum(seq)/len(seq)\n",
    "\n",
    "students =[\n",
    "    {\"name\":\"andy\", \"grades\":(67,45,90,89,90)},\n",
    "    {\"name\":\"sam\", \"grades\":(63,65,77,88,91)},\n",
    "    {\"name\":\"linda\", \"grades\":(63,46,60,69,96)},\n",
    "    {\"name\":\"mike\", \"grades\":(64,45,50,49,95)},\n",
    "]\n",
    "\n",
    "for student in students:\n",
    "    print(average_sc(student[\"grades\"]))"
   ]
  }
 ],
 "metadata": {
  "kernelspec": {
   "display_name": "Python 3",
   "language": "python",
   "name": "python3"
  },
  "language_info": {
   "codemirror_mode": {
    "name": "ipython",
    "version": 3
   },
   "file_extension": ".py",
   "mimetype": "text/x-python",
   "name": "python",
   "nbconvert_exporter": "python",
   "pygments_lexer": "ipython3",
   "version": "3.8.1"
  }
 },
 "nbformat": 4,
 "nbformat_minor": 2
}
