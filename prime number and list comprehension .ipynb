{
 "cells": [
  {
   "cell_type": "code",
   "execution_count": 1,
   "metadata": {},
   "outputs": [
    {
     "name": "stdout",
     "output_type": "stream",
     "text": [
      "=============OM===============\n"
     ]
    }
   ],
   "source": [
    "print(\"=============OM===============\")"
   ]
  },
  {
   "cell_type": "markdown",
   "metadata": {},
   "source": [
    "#  Finding prime number"
   ]
  },
  {
   "cell_type": "code",
   "execution_count": 4,
   "metadata": {},
   "outputs": [
    {
     "name": "stdout",
     "output_type": "stream",
     "text": [
      "2 is a prime number\n",
      "3 is a prime number\n",
      "4 equals to 2*2\n",
      "5 is a prime number\n",
      "6 equals to 2*3\n",
      "7 is a prime number\n",
      "8 equals to 2*4\n",
      "9 equals to 3*3\n"
     ]
    }
   ],
   "source": [
    "for n in range(2,10):\n",
    "    for x in range(2,n):\n",
    "        if n%x==0:\n",
    "            print(f\"{n} equals to {x}*{n//x}\")\n",
    "            break\n",
    "    else:\n",
    "        print(F\"{n} is a prime number\")"
   ]
  },
  {
   "cell_type": "code",
   "execution_count": 5,
   "metadata": {},
   "outputs": [],
   "source": [
    "friends=['andy','sam','ruby','linda']"
   ]
  },
  {
   "cell_type": "code",
   "execution_count": 10,
   "metadata": {},
   "outputs": [
    {
     "name": "stdout",
     "output_type": "stream",
     "text": [
      "['linda', 'ruby', 'sam', 'andy']\n"
     ]
    }
   ],
   "source": [
    "print(friends[::-1])"
   ]
  },
  {
   "cell_type": "code",
   "execution_count": 22,
   "metadata": {},
   "outputs": [
    {
     "name": "stdout",
     "output_type": "stream",
     "text": [
      "[0, 2, 4, 6, 8, 10]\n"
     ]
    }
   ],
   "source": [
    "numbers=[0,1,2,3,4,5]\n",
    "\n",
    "doubled_num=[number*2 for number in numbers]\n",
    "print(doubled_num)"
   ]
  },
  {
   "cell_type": "code",
   "execution_count": 25,
   "metadata": {},
   "outputs": [
    {
     "name": "stdout",
     "output_type": "stream",
     "text": [
      "['my friend is 22 years old', 'my friend is 34 years old', 'my friend is 43 years old', 'my friend is 33 years old', 'my friend is 53 years old']\n"
     ]
    }
   ],
   "source": [
    "friend_age=[22,34,43,33,53]\n",
    "string_age=[f\"my friend is {age} years old\" for age in friend_age]\n",
    "print(string_age)"
   ]
  }
 ],
 "metadata": {
  "kernelspec": {
   "display_name": "Python 3",
   "language": "python",
   "name": "python3"
  },
  "language_info": {
   "codemirror_mode": {
    "name": "ipython",
    "version": 3
   },
   "file_extension": ".py",
   "mimetype": "text/x-python",
   "name": "python",
   "nbconvert_exporter": "python",
   "pygments_lexer": "ipython3",
   "version": "3.8.1"
  }
 },
 "nbformat": 4,
 "nbformat_minor": 2
}
